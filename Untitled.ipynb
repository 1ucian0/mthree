{
 "cells": [
  {
   "cell_type": "code",
   "execution_count": 8,
   "id": "38ae2607-bb2b-4042-923b-f9092afb038d",
   "metadata": {},
   "outputs": [],
   "source": [
    "from qiskit_ibm_runtime import QiskitRuntimeService, Batch, SAm"
   ]
  },
  {
   "cell_type": "code",
   "execution_count": 3,
   "id": "b57016ad-8cb1-4728-a146-da078facf58f",
   "metadata": {},
   "outputs": [],
   "source": [
    "service = QiskitRuntimeService()"
   ]
  },
  {
   "cell_type": "code",
   "execution_count": 4,
   "id": "bcbf9317-4ebb-4613-a2f6-72d90070cb88",
   "metadata": {},
   "outputs": [],
   "source": [
    "backend = service.backend('ibm_fez')"
   ]
  },
  {
   "cell_type": "code",
   "execution_count": 6,
   "id": "1d890234-5f44-4423-abff-4c4f797fc8c4",
   "metadata": {},
   "outputs": [
    {
     "data": {
      "text/plain": [
       "'ibm_fez'"
      ]
     },
     "execution_count": 6,
     "metadata": {},
     "output_type": "execute_result"
    }
   ],
   "source": [
    "backend.name"
   ]
  },
  {
   "cell_type": "code",
   "execution_count": 10,
   "id": "4653dba0-cd12-4184-b6d8-7d97553ba4ab",
   "metadata": {},
   "outputs": [],
   "source": [
    "batch = Batch(backend=backend)"
   ]
  },
  {
   "cell_type": "code",
   "execution_count": null,
   "id": "a6f06b90-c99b-45d6-8884-4a67a611ccdf",
   "metadata": {},
   "outputs": [],
   "source": []
  }
 ],
 "metadata": {
  "kernelspec": {
   "display_name": "Python 3 (ipykernel)",
   "language": "python",
   "name": "python3"
  },
  "language_info": {
   "codemirror_mode": {
    "name": "ipython",
    "version": 3
   },
   "file_extension": ".py",
   "mimetype": "text/x-python",
   "name": "python",
   "nbconvert_exporter": "python",
   "pygments_lexer": "ipython3",
   "version": "3.12.6"
  }
 },
 "nbformat": 4,
 "nbformat_minor": 5
}
