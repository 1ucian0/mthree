{
 "cells": [
  {
   "cell_type": "code",
   "execution_count": 35,
   "id": "860a744b",
   "metadata": {},
   "outputs": [],
   "source": [
    "from qiskit import QuantumCircuit, transpile\n",
    "from qiskit.providers.fake_provider import FakeCasablanca\n",
    "import mthree\n",
    "from mthree.utils import final_measurement_mapping"
   ]
  },
  {
   "cell_type": "code",
   "execution_count": 39,
   "id": "e2361ca6",
   "metadata": {},
   "outputs": [
    {
     "ename": "AttributeError",
     "evalue": "'list' object has no attribute 'values'",
     "output_type": "error",
     "traceback": [
      "\u001b[0;31m---------------------------------------------------------------------------\u001b[0m",
      "\u001b[0;31mAttributeError\u001b[0m                            Traceback (most recent call last)",
      "Cell \u001b[0;32mIn[39], line 16\u001b[0m\n\u001b[1;32m     13\u001b[0m maps \u001b[38;5;241m=\u001b[39m final_measurement_mapping(circs)\n\u001b[1;32m     15\u001b[0m qubits \u001b[38;5;241m=\u001b[39m []\n\u001b[0;32m---> 16\u001b[0m \u001b[38;5;28;01mfor\u001b[39;00m item \u001b[38;5;129;01min\u001b[39;00m \u001b[43mmaps\u001b[49m\u001b[38;5;241;43m.\u001b[39;49m\u001b[43mvalues\u001b[49m():\n\u001b[1;32m     17\u001b[0m     qubits\u001b[38;5;241m.\u001b[39mextend(\u001b[38;5;28mlist\u001b[39m(item))\n\u001b[1;32m     18\u001b[0m qubits \u001b[38;5;241m=\u001b[39m \u001b[38;5;28mlist\u001b[39m(\u001b[38;5;28mset\u001b[39m(qubits))\n",
      "\u001b[0;31mAttributeError\u001b[0m: 'list' object has no attribute 'values'"
     ]
    }
   ],
   "source": [
    "qc = QuantumCircuit(5, 4)\n",
    "qc.reset(range(5))\n",
    "qc.x(4)\n",
    "qc.h(range(5))\n",
    "qc.cx(range(4), 4)\n",
    "qc.draw()\n",
    "qc.h(range(4))\n",
    "qc.barrier()\n",
    "qc.measure(range(4), range(4))\n",
    "\n",
    "backend = FakeCasablanca()\n",
    "circs = transpile([qc]*5, backend, seed_transpiler=12345)\n",
    "maps = final_measurement_mapping(circs)\n",
    "\n",
    "qubits = []\n",
    "for item in maps.values():\n",
    "    qubits.extend(list(item))\n",
    "qubits = list(set(qubits))\n",
    "\n",
    "mit = mthree.M3Mitigation(backend)\n",
    "mit.cals_from_system(maps)\n",
    "for qu in qubits:\n",
    "    assert mit.single_qubit_cals[qu] is not None"
   ]
  },
  {
   "cell_type": "code",
   "execution_count": 37,
   "id": "9114515b",
   "metadata": {},
   "outputs": [
    {
     "data": {
      "text/plain": [
       "[0, 1, 2, 3]"
      ]
     },
     "execution_count": 37,
     "metadata": {},
     "output_type": "execute_result"
    }
   ],
   "source": [
    "qubits"
   ]
  },
  {
   "cell_type": "code",
   "execution_count": 38,
   "id": "3da1c5fa",
   "metadata": {},
   "outputs": [
    {
     "data": {
      "text/plain": [
       "[{0: 5, 1: 0, 2: 2, 3: 3},\n",
       " {0: 5, 1: 0, 2: 2, 3: 3},\n",
       " {0: 5, 1: 0, 2: 2, 3: 3},\n",
       " {0: 5, 1: 0, 2: 2, 3: 3},\n",
       " {0: 5, 1: 0, 2: 2, 3: 3}]"
      ]
     },
     "execution_count": 38,
     "metadata": {},
     "output_type": "execute_result"
    }
   ],
   "source": [
    "maps"
   ]
  },
  {
   "cell_type": "code",
   "execution_count": null,
   "id": "59f89e5d",
   "metadata": {},
   "outputs": [],
   "source": []
  }
 ],
 "metadata": {
  "kernelspec": {
   "display_name": "Python 3 (ipykernel)",
   "language": "python",
   "name": "python3"
  },
  "language_info": {
   "codemirror_mode": {
    "name": "ipython",
    "version": 3
   },
   "file_extension": ".py",
   "mimetype": "text/x-python",
   "name": "python",
   "nbconvert_exporter": "python",
   "pygments_lexer": "ipython3",
   "version": "3.10.8"
  }
 },
 "nbformat": 4,
 "nbformat_minor": 5
}
