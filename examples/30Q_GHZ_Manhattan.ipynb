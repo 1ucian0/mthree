{
 "cells": [
  {
   "cell_type": "markdown",
   "metadata": {},
   "source": [
    "# 30Q GHZ state trial on Manhattan\n",
    "\n",
    "This notebook requires: `Qiskit >= 0.24`, and of course `mthree >= 0.4.1`.  The latter must be installed from source at the moment.\n",
    "\n",
    "This will attempt to execute a 30Q GHZ state using Manhattan.  This is interesting as forming the full mitigation matrix would require $2^{60}$ elements.\n"
   ]
  },
  {
   "cell_type": "code",
   "execution_count": 1,
   "metadata": {},
   "outputs": [],
   "source": [
    "import time\n",
    "import numpy as np\n",
    "from qiskit import *\n",
    "from qiskit.ignis.mitigation import expectation_value"
   ]
  },
  {
   "cell_type": "code",
   "execution_count": 2,
   "metadata": {
    "scrolled": true
   },
   "outputs": [],
   "source": [
    "IBMQ.load_account()\n",
    "provider = IBMQ.get_provider(group='deployed')\n",
    "backend = provider.backend.ibmq_manhattan"
   ]
  },
  {
   "cell_type": "code",
   "execution_count": 3,
   "metadata": {},
   "outputs": [
    {
     "name": "stdout",
     "output_type": "stream",
     "text": [
      "================================================================================\n",
      "# Matrix-free Measurement Mitigation (M3) version 0.4.1.dev1+1fabf99\n",
      "# (C) Copyright IBM Quantum, 2021\n",
      "# Paul Nation, Hwajung Kang, and Jay Gambetta\n",
      "================================================================================\n"
     ]
    }
   ],
   "source": [
    "import mthree\n",
    "mthree.about()"
   ]
  },
  {
   "cell_type": "code",
   "execution_count": 4,
   "metadata": {},
   "outputs": [
    {
     "data": {
      "text/plain": [
       "30"
      ]
     },
     "execution_count": 4,
     "metadata": {},
     "output_type": "execute_result"
    }
   ],
   "source": [
    "layers = [[4], \n",
    "          [5], \n",
    "          [6,11], \n",
    "          [7,17,3], \n",
    "          [8,18,2], \n",
    "          [12,19,1], \n",
    "          [21,25,0],\n",
    "          [22,33,10],\n",
    "          [23,32,13],\n",
    "          [26,31,14],\n",
    "          [37,39,15],\n",
    "             [45,24]]\n",
    "\n",
    "qubits = sum(layers, [])\n",
    "len(qubits)"
   ]
  },
  {
   "cell_type": "markdown",
   "metadata": {},
   "source": [
    "### Build 30 qubit GHZ circuit"
   ]
  },
  {
   "cell_type": "code",
   "execution_count": 5,
   "metadata": {},
   "outputs": [
    {
     "data": {
      "text/plain": [
       "<qiskit.circuit.instructionset.InstructionSet at 0x7ffe69a45250>"
      ]
     },
     "execution_count": 5,
     "metadata": {},
     "output_type": "execute_result"
    }
   ],
   "source": [
    "qc = QuantumCircuit(65, len(qubits))\n",
    "qc.h(4)\n",
    "#branch 1\n",
    "qc.cx(4,5)\n",
    "qc.cx(5,6)\n",
    "qc.cx(6,7)\n",
    "qc.cx(7,8)\n",
    "qc.cx(8,12)\n",
    "qc.cx(12,21)\n",
    "qc.cx(21,22)\n",
    "qc.cx(22,23)\n",
    "qc.cx(23,26)\n",
    "qc.cx(26,37)\n",
    "#branch 2\n",
    "qc.cx(4,11)\n",
    "qc.cx(11,17)\n",
    "qc.cx(17,18)\n",
    "qc.cx(18,19)\n",
    "qc.cx(19,25)\n",
    "qc.cx(25,33)\n",
    "qc.cx(33,32)\n",
    "qc.cx(32,31)\n",
    "qc.cx(31,39)\n",
    "qc.cx(39,45)\n",
    "#branch 3\n",
    "qc.cx(4,3)\n",
    "qc.cx(3,2)\n",
    "qc.cx(2,1)\n",
    "qc.cx(1,0)\n",
    "qc.cx(0,10)\n",
    "qc.cx(10,13)\n",
    "qc.cx(13,14)\n",
    "qc.cx(14,15)\n",
    "qc.cx(15,24)\n",
    "qc.measure(qubits, range(len(qubits)))"
   ]
  },
  {
   "cell_type": "markdown",
   "metadata": {},
   "source": [
    "### Instantiate M3 Instance"
   ]
  },
  {
   "cell_type": "code",
   "execution_count": 6,
   "metadata": {},
   "outputs": [],
   "source": [
    "mit = mthree.M3Mitigation(backend)"
   ]
  },
  {
   "cell_type": "markdown",
   "metadata": {},
   "source": [
    "### Calibration"
   ]
  },
  {
   "cell_type": "code",
   "execution_count": 7,
   "metadata": {},
   "outputs": [],
   "source": [
    "mit.tensored_cals_from_system(qubits)"
   ]
  },
  {
   "cell_type": "markdown",
   "metadata": {},
   "source": [
    "### Execute the circuit on the backend and compute the expectation value"
   ]
  },
  {
   "cell_type": "code",
   "execution_count": 11,
   "metadata": {},
   "outputs": [],
   "source": [
    "ghz_job = execute(qc, backend, shots=8192, optimization_level=1)"
   ]
  },
  {
   "cell_type": "code",
   "execution_count": 12,
   "metadata": {},
   "outputs": [
    {
     "data": {
      "text/plain": [
       "3874"
      ]
     },
     "execution_count": 12,
     "metadata": {},
     "output_type": "execute_result"
    }
   ],
   "source": [
    "real_counts = ghz_job.result().get_counts()\n",
    "len(real_counts)"
   ]
  },
  {
   "cell_type": "code",
   "execution_count": 13,
   "metadata": {},
   "outputs": [
    {
     "data": {
      "text/plain": [
       "0.0849609375"
      ]
     },
     "execution_count": 13,
     "metadata": {},
     "output_type": "execute_result"
    }
   ],
   "source": [
    "expectation_value(real_counts)[0]"
   ]
  },
  {
   "cell_type": "markdown",
   "metadata": {},
   "source": [
    "### Measurement mitigation by M3 and compute the expectation value"
   ]
  },
  {
   "cell_type": "code",
   "execution_count": 14,
   "metadata": {},
   "outputs": [
    {
     "data": {
      "text/plain": [
       "{'method': 'direct',\n",
       " 'time': 0.7396790981292725,\n",
       " 'dimension': 3874,\n",
       " 'col_norms': array([0.9033827 , 0.42526317, 0.71993441, ..., 0.61167295, 0.52939782,\n",
       "        0.78016068])}"
      ]
     },
     "execution_count": 14,
     "metadata": {},
     "output_type": "execute_result"
    }
   ],
   "source": [
    "quasi, details = mit.apply_correction(real_counts, qubits=qubits, details=True)\n",
    "details"
   ]
  },
  {
   "cell_type": "code",
   "execution_count": 15,
   "metadata": {},
   "outputs": [
    {
     "data": {
      "text/plain": [
       "0.5027474694623298"
      ]
     },
     "execution_count": 15,
     "metadata": {},
     "output_type": "execute_result"
    }
   ],
   "source": [
    "expectation_value(quasi)[0]"
   ]
  },
  {
   "cell_type": "code",
   "execution_count": null,
   "metadata": {},
   "outputs": [],
   "source": []
  }
 ],
 "metadata": {
  "kernelspec": {
   "display_name": "Python 3",
   "language": "python",
   "name": "python3"
  },
  "language_info": {
   "codemirror_mode": {
    "name": "ipython",
    "version": 3
   },
   "file_extension": ".py",
   "mimetype": "text/x-python",
   "name": "python",
   "nbconvert_exporter": "python",
   "pygments_lexer": "ipython3",
   "version": "3.9.2"
  }
 },
 "nbformat": 4,
 "nbformat_minor": 4
}
